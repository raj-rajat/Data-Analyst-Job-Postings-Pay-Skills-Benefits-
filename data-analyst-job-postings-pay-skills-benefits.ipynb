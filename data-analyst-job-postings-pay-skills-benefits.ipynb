{
 "cells": [
  {
   "cell_type": "code",
   "execution_count": 1,
   "id": "a951479c",
   "metadata": {
    "_cell_guid": "b1076dfc-b9ad-4769-8c92-a6c4dae69d19",
    "_uuid": "8f2839f25d086af736a60e9eeb907d3b93b6e0e5",
    "execution": {
     "iopub.execute_input": "2023-09-04T19:32:37.858578Z",
     "iopub.status.busy": "2023-09-04T19:32:37.857813Z",
     "iopub.status.idle": "2023-09-04T19:32:38.235176Z",
     "shell.execute_reply": "2023-09-04T19:32:38.233507Z"
    },
    "papermill": {
     "duration": 0.390879,
     "end_time": "2023-09-04T19:32:38.238785",
     "exception": false,
     "start_time": "2023-09-04T19:32:37.847906",
     "status": "completed"
    },
    "tags": []
   },
   "outputs": [
    {
     "name": "stdout",
     "output_type": "stream",
     "text": [
      "/kaggle/input/data-analyst-job-postings-google-search/gsearch_jobs.csv\n"
     ]
    }
   ],
   "source": [
    "# This Python 3 environment comes with many helpful analytics libraries installed\n",
    "# It is defined by the kaggle/python Docker image: https://github.com/kaggle/docker-python\n",
    "# For example, here's several helpful packages to load\n",
    "\n",
    "import numpy as np # linear algebra\n",
    "import pandas as pd # data processing, CSV file I/O (e.g. pd.read_csv)\n",
    "\n",
    "# Input data files are available in the read-only \"../input/\" directory\n",
    "# For example, running this (by clicking run or pressing Shift+Enter) will list all files under the input directory\n",
    "\n",
    "import os\n",
    "for dirname, _, filenames in os.walk('/kaggle/input'):\n",
    "    for filename in filenames:\n",
    "        print(os.path.join(dirname, filename))\n",
    "\n",
    "# You can write up to 20GB to the current directory (/kaggle/working/) that gets preserved as output when you create a version using \"Save & Run All\" \n",
    "# You can also write temporary files to /kaggle/temp/, but they won't be saved outside of the current session"
   ]
  },
  {
   "cell_type": "code",
   "execution_count": 2,
   "id": "c3c449c9",
   "metadata": {
    "execution": {
     "iopub.execute_input": "2023-09-04T19:32:38.257381Z",
     "iopub.status.busy": "2023-09-04T19:32:38.256254Z",
     "iopub.status.idle": "2023-09-04T19:32:41.848794Z",
     "shell.execute_reply": "2023-09-04T19:32:41.847901Z"
    },
    "papermill": {
     "duration": 3.603263,
     "end_time": "2023-09-04T19:32:41.850887",
     "exception": false,
     "start_time": "2023-09-04T19:32:38.247624",
     "status": "completed"
    },
    "tags": []
   },
   "outputs": [
    {
     "data": {
      "text/html": [
       "<div>\n",
       "<style scoped>\n",
       "    .dataframe tbody tr th:only-of-type {\n",
       "        vertical-align: middle;\n",
       "    }\n",
       "\n",
       "    .dataframe tbody tr th {\n",
       "        vertical-align: top;\n",
       "    }\n",
       "\n",
       "    .dataframe thead th {\n",
       "        text-align: right;\n",
       "    }\n",
       "</style>\n",
       "<table border=\"1\" class=\"dataframe\">\n",
       "  <thead>\n",
       "    <tr style=\"text-align: right;\">\n",
       "      <th></th>\n",
       "      <th>Unnamed: 0</th>\n",
       "      <th>index</th>\n",
       "      <th>title</th>\n",
       "      <th>company_name</th>\n",
       "      <th>location</th>\n",
       "      <th>via</th>\n",
       "      <th>description</th>\n",
       "      <th>extensions</th>\n",
       "      <th>job_id</th>\n",
       "      <th>thumbnail</th>\n",
       "      <th>...</th>\n",
       "      <th>commute_time</th>\n",
       "      <th>salary_pay</th>\n",
       "      <th>salary_rate</th>\n",
       "      <th>salary_avg</th>\n",
       "      <th>salary_min</th>\n",
       "      <th>salary_max</th>\n",
       "      <th>salary_hourly</th>\n",
       "      <th>salary_yearly</th>\n",
       "      <th>salary_standardized</th>\n",
       "      <th>description_tokens</th>\n",
       "    </tr>\n",
       "  </thead>\n",
       "  <tbody>\n",
       "    <tr>\n",
       "      <th>0</th>\n",
       "      <td>0</td>\n",
       "      <td>0</td>\n",
       "      <td>Data Analyst</td>\n",
       "      <td>Cisco Meraki</td>\n",
       "      <td>Anywhere</td>\n",
       "      <td>via LinkedIn</td>\n",
       "      <td>As the leader in cloud-managed IT, Cisco Merak...</td>\n",
       "      <td>['22 hours ago', 'Work from home', 'Full-time'...</td>\n",
       "      <td>eyJqb2JfdGl0bGUiOiJEYXRhIEFuYWx5c3QiLCJodGlkb2...</td>\n",
       "      <td>https://encrypted-tbn0.gstatic.com/images?q=tb...</td>\n",
       "      <td>...</td>\n",
       "      <td>NaN</td>\n",
       "      <td>NaN</td>\n",
       "      <td>NaN</td>\n",
       "      <td>NaN</td>\n",
       "      <td>NaN</td>\n",
       "      <td>NaN</td>\n",
       "      <td>NaN</td>\n",
       "      <td>NaN</td>\n",
       "      <td>NaN</td>\n",
       "      <td>['aws', 'sql', 'tableau']</td>\n",
       "    </tr>\n",
       "    <tr>\n",
       "      <th>1</th>\n",
       "      <td>1</td>\n",
       "      <td>1</td>\n",
       "      <td>Entry Level - Business Data Analyst (Remote)</td>\n",
       "      <td>Midwest Staffing</td>\n",
       "      <td>Anywhere</td>\n",
       "      <td>via LinkedIn</td>\n",
       "      <td>As a Senior Business Analyst you will contribu...</td>\n",
       "      <td>['53 minutes ago', 'Work from home', 'Full-tim...</td>\n",
       "      <td>eyJqb2JfdGl0bGUiOiJFbnRyeSBMZXZlbCAtIEJ1c2luZX...</td>\n",
       "      <td>https://encrypted-tbn0.gstatic.com/images?q=tb...</td>\n",
       "      <td>...</td>\n",
       "      <td>NaN</td>\n",
       "      <td>NaN</td>\n",
       "      <td>NaN</td>\n",
       "      <td>NaN</td>\n",
       "      <td>NaN</td>\n",
       "      <td>NaN</td>\n",
       "      <td>NaN</td>\n",
       "      <td>NaN</td>\n",
       "      <td>NaN</td>\n",
       "      <td>[]</td>\n",
       "    </tr>\n",
       "    <tr>\n",
       "      <th>2</th>\n",
       "      <td>2</td>\n",
       "      <td>2</td>\n",
       "      <td>Data Analyst/Researcher</td>\n",
       "      <td>Amyx, Inc.</td>\n",
       "      <td>United States</td>\n",
       "      <td>via Indeed</td>\n",
       "      <td>Overview:\\n\\nAmyx is seeking to hire a Data An...</td>\n",
       "      <td>['3 hours ago', 'Full-time']</td>\n",
       "      <td>eyJqb2JfdGl0bGUiOiJEYXRhIEFuYWx5c3QvUmVzZWFyY2...</td>\n",
       "      <td>NaN</td>\n",
       "      <td>...</td>\n",
       "      <td>NaN</td>\n",
       "      <td>NaN</td>\n",
       "      <td>NaN</td>\n",
       "      <td>NaN</td>\n",
       "      <td>NaN</td>\n",
       "      <td>NaN</td>\n",
       "      <td>NaN</td>\n",
       "      <td>NaN</td>\n",
       "      <td>NaN</td>\n",
       "      <td>['azure', 'sql', 'excel']</td>\n",
       "    </tr>\n",
       "    <tr>\n",
       "      <th>3</th>\n",
       "      <td>3</td>\n",
       "      <td>3</td>\n",
       "      <td>Data analyst/AI expert to help build a website...</td>\n",
       "      <td>Upwork</td>\n",
       "      <td>Anywhere</td>\n",
       "      <td>via Upwork</td>\n",
       "      <td>I am looking for someone to help me build an A...</td>\n",
       "      <td>['23 hours ago', 'Work from home', 'Contractor']</td>\n",
       "      <td>eyJqb2JfdGl0bGUiOiJEYXRhIGFuYWx5c3QvQUkgZXhwZX...</td>\n",
       "      <td>NaN</td>\n",
       "      <td>...</td>\n",
       "      <td>NaN</td>\n",
       "      <td>NaN</td>\n",
       "      <td>NaN</td>\n",
       "      <td>NaN</td>\n",
       "      <td>NaN</td>\n",
       "      <td>NaN</td>\n",
       "      <td>NaN</td>\n",
       "      <td>NaN</td>\n",
       "      <td>NaN</td>\n",
       "      <td>['excel']</td>\n",
       "    </tr>\n",
       "    <tr>\n",
       "      <th>4</th>\n",
       "      <td>4</td>\n",
       "      <td>4</td>\n",
       "      <td>Data Analyst</td>\n",
       "      <td>Bank Street College of Education</td>\n",
       "      <td>United States</td>\n",
       "      <td>via Higher Education Recruitment Consortium (H...</td>\n",
       "      <td>Position Vacancy – Data Analyst to support the...</td>\n",
       "      <td>['20 hours ago', 'Full-time']</td>\n",
       "      <td>eyJqb2JfdGl0bGUiOiJEYXRhIEFuYWx5c3QiLCJodGlkb2...</td>\n",
       "      <td>NaN</td>\n",
       "      <td>...</td>\n",
       "      <td>NaN</td>\n",
       "      <td>NaN</td>\n",
       "      <td>NaN</td>\n",
       "      <td>NaN</td>\n",
       "      <td>NaN</td>\n",
       "      <td>NaN</td>\n",
       "      <td>NaN</td>\n",
       "      <td>NaN</td>\n",
       "      <td>NaN</td>\n",
       "      <td>['powerpoint', 'excel']</td>\n",
       "    </tr>\n",
       "  </tbody>\n",
       "</table>\n",
       "<p>5 rows × 27 columns</p>\n",
       "</div>"
      ],
      "text/plain": [
       "   Unnamed: 0  index                                              title  \\\n",
       "0           0      0                                       Data Analyst   \n",
       "1           1      1       Entry Level - Business Data Analyst (Remote)   \n",
       "2           2      2                            Data Analyst/Researcher   \n",
       "3           3      3  Data analyst/AI expert to help build a website...   \n",
       "4           4      4                                       Data Analyst   \n",
       "\n",
       "                       company_name            location  \\\n",
       "0                      Cisco Meraki           Anywhere    \n",
       "1                  Midwest Staffing           Anywhere    \n",
       "2                        Amyx, Inc.    United States      \n",
       "3                            Upwork           Anywhere    \n",
       "4  Bank Street College of Education    United States      \n",
       "\n",
       "                                                 via  \\\n",
       "0                                       via LinkedIn   \n",
       "1                                       via LinkedIn   \n",
       "2                                         via Indeed   \n",
       "3                                         via Upwork   \n",
       "4  via Higher Education Recruitment Consortium (H...   \n",
       "\n",
       "                                         description  \\\n",
       "0  As the leader in cloud-managed IT, Cisco Merak...   \n",
       "1  As a Senior Business Analyst you will contribu...   \n",
       "2  Overview:\\n\\nAmyx is seeking to hire a Data An...   \n",
       "3  I am looking for someone to help me build an A...   \n",
       "4  Position Vacancy – Data Analyst to support the...   \n",
       "\n",
       "                                          extensions  \\\n",
       "0  ['22 hours ago', 'Work from home', 'Full-time'...   \n",
       "1  ['53 minutes ago', 'Work from home', 'Full-tim...   \n",
       "2                       ['3 hours ago', 'Full-time']   \n",
       "3   ['23 hours ago', 'Work from home', 'Contractor']   \n",
       "4                      ['20 hours ago', 'Full-time']   \n",
       "\n",
       "                                              job_id  \\\n",
       "0  eyJqb2JfdGl0bGUiOiJEYXRhIEFuYWx5c3QiLCJodGlkb2...   \n",
       "1  eyJqb2JfdGl0bGUiOiJFbnRyeSBMZXZlbCAtIEJ1c2luZX...   \n",
       "2  eyJqb2JfdGl0bGUiOiJEYXRhIEFuYWx5c3QvUmVzZWFyY2...   \n",
       "3  eyJqb2JfdGl0bGUiOiJEYXRhIGFuYWx5c3QvQUkgZXhwZX...   \n",
       "4  eyJqb2JfdGl0bGUiOiJEYXRhIEFuYWx5c3QiLCJodGlkb2...   \n",
       "\n",
       "                                           thumbnail  ... commute_time  \\\n",
       "0  https://encrypted-tbn0.gstatic.com/images?q=tb...  ...          NaN   \n",
       "1  https://encrypted-tbn0.gstatic.com/images?q=tb...  ...          NaN   \n",
       "2                                                NaN  ...          NaN   \n",
       "3                                                NaN  ...          NaN   \n",
       "4                                                NaN  ...          NaN   \n",
       "\n",
       "  salary_pay salary_rate salary_avg salary_min salary_max salary_hourly  \\\n",
       "0        NaN         NaN        NaN        NaN        NaN           NaN   \n",
       "1        NaN         NaN        NaN        NaN        NaN           NaN   \n",
       "2        NaN         NaN        NaN        NaN        NaN           NaN   \n",
       "3        NaN         NaN        NaN        NaN        NaN           NaN   \n",
       "4        NaN         NaN        NaN        NaN        NaN           NaN   \n",
       "\n",
       "   salary_yearly salary_standardized         description_tokens  \n",
       "0            NaN                 NaN  ['aws', 'sql', 'tableau']  \n",
       "1            NaN                 NaN                         []  \n",
       "2            NaN                 NaN  ['azure', 'sql', 'excel']  \n",
       "3            NaN                 NaN                  ['excel']  \n",
       "4            NaN                 NaN    ['powerpoint', 'excel']  \n",
       "\n",
       "[5 rows x 27 columns]"
      ]
     },
     "execution_count": 2,
     "metadata": {},
     "output_type": "execute_result"
    }
   ],
   "source": [
    "import pandas as pd\n",
    "\n",
    "# Loading the CSV file into a dataframe\n",
    "df = pd.read_csv('/kaggle/input/data-analyst-job-postings-google-search/gsearch_jobs.csv')\n",
    "\n",
    "# Displaying the first few rows of the dataframe\n",
    "df.head()\n"
   ]
  },
  {
   "cell_type": "code",
   "execution_count": 3,
   "id": "151269ce",
   "metadata": {
    "execution": {
     "iopub.execute_input": "2023-09-04T19:32:41.868307Z",
     "iopub.status.busy": "2023-09-04T19:32:41.867461Z",
     "iopub.status.idle": "2023-09-04T19:32:41.894511Z",
     "shell.execute_reply": "2023-09-04T19:32:41.893437Z"
    },
    "papermill": {
     "duration": 0.038108,
     "end_time": "2023-09-04T19:32:41.896774",
     "exception": false,
     "start_time": "2023-09-04T19:32:41.858666",
     "status": "completed"
    },
    "tags": []
   },
   "outputs": [
    {
     "data": {
      "text/html": [
       "<div>\n",
       "<style scoped>\n",
       "    .dataframe tbody tr th:only-of-type {\n",
       "        vertical-align: middle;\n",
       "    }\n",
       "\n",
       "    .dataframe tbody tr th {\n",
       "        vertical-align: top;\n",
       "    }\n",
       "\n",
       "    .dataframe thead th {\n",
       "        text-align: right;\n",
       "    }\n",
       "</style>\n",
       "<table border=\"1\" class=\"dataframe\">\n",
       "  <thead>\n",
       "    <tr style=\"text-align: right;\">\n",
       "      <th></th>\n",
       "      <th>salary_avg</th>\n",
       "      <th>salary_min</th>\n",
       "      <th>salary_max</th>\n",
       "    </tr>\n",
       "  </thead>\n",
       "  <tbody>\n",
       "    <tr>\n",
       "      <th>count</th>\n",
       "      <td>5054.000000</td>\n",
       "      <td>4753.000000</td>\n",
       "      <td>4753.000000</td>\n",
       "    </tr>\n",
       "    <tr>\n",
       "      <th>mean</th>\n",
       "      <td>38083.900349</td>\n",
       "      <td>32129.548834</td>\n",
       "      <td>45389.260265</td>\n",
       "    </tr>\n",
       "    <tr>\n",
       "      <th>std</th>\n",
       "      <td>52323.773685</td>\n",
       "      <td>44032.119511</td>\n",
       "      <td>62126.843344</td>\n",
       "    </tr>\n",
       "    <tr>\n",
       "      <th>min</th>\n",
       "      <td>9.000000</td>\n",
       "      <td>8.000000</td>\n",
       "      <td>10.000000</td>\n",
       "    </tr>\n",
       "    <tr>\n",
       "      <th>25%</th>\n",
       "      <td>32.406250</td>\n",
       "      <td>20.000000</td>\n",
       "      <td>45.000000</td>\n",
       "    </tr>\n",
       "    <tr>\n",
       "      <th>50%</th>\n",
       "      <td>60.000000</td>\n",
       "      <td>48.000000</td>\n",
       "      <td>75.000000</td>\n",
       "    </tr>\n",
       "    <tr>\n",
       "      <th>75%</th>\n",
       "      <td>90000.000000</td>\n",
       "      <td>77000.000000</td>\n",
       "      <td>110000.000000</td>\n",
       "    </tr>\n",
       "    <tr>\n",
       "      <th>max</th>\n",
       "      <td>233500.000000</td>\n",
       "      <td>215000.000000</td>\n",
       "      <td>283000.000000</td>\n",
       "    </tr>\n",
       "  </tbody>\n",
       "</table>\n",
       "</div>"
      ],
      "text/plain": [
       "          salary_avg     salary_min     salary_max\n",
       "count    5054.000000    4753.000000    4753.000000\n",
       "mean    38083.900349   32129.548834   45389.260265\n",
       "std     52323.773685   44032.119511   62126.843344\n",
       "min         9.000000       8.000000      10.000000\n",
       "25%        32.406250      20.000000      45.000000\n",
       "50%        60.000000      48.000000      75.000000\n",
       "75%     90000.000000   77000.000000  110000.000000\n",
       "max    233500.000000  215000.000000  283000.000000"
      ]
     },
     "execution_count": 3,
     "metadata": {},
     "output_type": "execute_result"
    }
   ],
   "source": [
    "# Basic statistics for the salary columns\n",
    "salary_stats = df[['salary_avg', 'salary_min', 'salary_max']].describe()\n",
    "\n",
    "salary_stats\n"
   ]
  },
  {
   "cell_type": "markdown",
   "id": "32d394d6",
   "metadata": {
    "papermill": {
     "duration": 0.007616,
     "end_time": "2023-09-04T19:32:41.912357",
     "exception": false,
     "start_time": "2023-09-04T19:32:41.904741",
     "status": "completed"
    },
    "tags": []
   },
   "source": [
    "**Here are the salary statistics for Data Analyst positions:**\n",
    "\n",
    "**Average Salary:**\n",
    "\n",
    "* Mean: $38,083\n",
    "* Median: $60 (this value seems quite low for a yearly salary, suggesting some postings might be hourly or mislabeled)\n",
    "\n",
    "**Minimum Salary:**\n",
    "* Mean: $32,129\n",
    "* Median: $48 (again, this suggests some hourly rates might be included)\n",
    "* Lowest reported: $8 (this is definitely an hourly rate)\n",
    "\n",
    "**Maximum Salary:**\n",
    "* Mean: $45,389\n",
    "* Median: $75 (similarly, this suggests hourly rates)\n",
    "* Highest reported: $283,000"
   ]
  },
  {
   "cell_type": "code",
   "execution_count": 4,
   "id": "cbda3367",
   "metadata": {
    "execution": {
     "iopub.execute_input": "2023-09-04T19:32:41.930755Z",
     "iopub.status.busy": "2023-09-04T19:32:41.929619Z",
     "iopub.status.idle": "2023-09-04T19:32:41.960914Z",
     "shell.execute_reply": "2023-09-04T19:32:41.959734Z"
    },
    "papermill": {
     "duration": 0.042733,
     "end_time": "2023-09-04T19:32:41.963157",
     "exception": false,
     "start_time": "2023-09-04T19:32:41.920424",
     "status": "completed"
    },
    "tags": []
   },
   "outputs": [
    {
     "data": {
      "text/plain": [
       "(        salary_avg   salary_min   salary_max\n",
       " count  3149.000000  2948.000000  2948.000000\n",
       " mean     43.528604    31.404352    55.937639\n",
       " std      23.132985    19.386355    31.179754\n",
       " min       9.000000     8.000000    10.000000\n",
       " 25%      27.500000    16.000000    35.000000\n",
       " 50%      38.000000    25.000000    50.000000\n",
       " 75%      57.500000    40.000000    75.000000\n",
       " max     300.000000   200.000000   500.000000,\n",
       "           salary_avg     salary_min     salary_max\n",
       " count    1896.000000    1798.000000    1798.000000\n",
       " mean   101415.812653   84861.493648  119867.715172\n",
       " std     29625.659968   25531.649259   35768.563176\n",
       " min     29289.840000   27519.630000   35000.000000\n",
       " 25%     85000.000000   72062.500000  100000.000000\n",
       " 50%     96500.000000   77000.000000  116000.000000\n",
       " 75%    112500.000000   93000.000000  130764.000000\n",
       " max    233500.000000  215000.000000  283000.000000)"
      ]
     },
     "execution_count": 4,
     "metadata": {},
     "output_type": "execute_result"
    }
   ],
   "source": [
    "# Separating the data into hourly and yearly salary postings\n",
    "hourly_jobs = df[df['salary_hourly'].notnull()]\n",
    "yearly_jobs = df[df['salary_yearly'].notnull()]\n",
    "\n",
    "# Basic statistics for hourly and yearly salary postings\n",
    "hourly_salary_stats = hourly_jobs[['salary_avg', 'salary_min', 'salary_max']].describe()\n",
    "yearly_salary_stats = yearly_jobs[['salary_avg', 'salary_min', 'salary_max']].describe()\n",
    "\n",
    "hourly_salary_stats, yearly_salary_stats\n"
   ]
  },
  {
   "cell_type": "markdown",
   "id": "f1e846a8",
   "metadata": {
    "papermill": {
     "duration": 0.007843,
     "end_time": "2023-09-04T19:32:41.979216",
     "exception": false,
     "start_time": "2023-09-04T19:32:41.971373",
     "status": "completed"
    },
    "tags": []
   },
   "source": [
    "**Here are the salary statistics categorized by salary type:**\n",
    "\n",
    "**Hourly Salaries:**\n",
    "\n",
    "**Average Hourly Salary:**\n",
    "\n",
    "* Mean: $43.53\n",
    "* Median: $38.00\n",
    "\n",
    "**Minimum Hourly Salary:**\n",
    "\n",
    "* Mean: $31.40\n",
    "* Median: $25.00\n",
    "* Lowest reported: $8.00\n",
    "\n",
    "**Maximum Hourly Salary:**\n",
    "\n",
    "* Mean: $55.94\n",
    "* Median: $50.00\n",
    "* Highest reported: $500.00 (This value seems quite high for an hourly rate and might be an outlier or a mislabeled entry.)\n",
    "\n",
    "**Yearly Salaries:**\n",
    "\n",
    "**Average Yearly Salary:**\n",
    "\n",
    "* Mean: $101,415.81\n",
    "* Median: $96,500.00\n",
    "\n",
    "**Minimum Yearly Salary:**\n",
    "\n",
    "* Mean: $84,861.49\n",
    "* Median: $77,000.00\n",
    "* Lowest reported: $27,519.63\n",
    "\n",
    "**Maximum Yearly Salary:**\n",
    "\n",
    "* Mean: $119,867.72\n",
    "* Median: $116,000.00\n",
    "* Highest reported: $283,000.00\n",
    "\n",
    "> This separation gives a clearer picture of the salary expectations for Data Analyst positions based on hourly and yearly pay scales."
   ]
  },
  {
   "cell_type": "code",
   "execution_count": 5,
   "id": "6d17b7cd",
   "metadata": {
    "execution": {
     "iopub.execute_input": "2023-09-04T19:32:41.997406Z",
     "iopub.status.busy": "2023-09-04T19:32:41.997028Z",
     "iopub.status.idle": "2023-09-04T19:32:42.020310Z",
     "shell.execute_reply": "2023-09-04T19:32:42.019164Z"
    },
    "papermill": {
     "duration": 0.035209,
     "end_time": "2023-09-04T19:32:42.022574",
     "exception": false,
     "start_time": "2023-09-04T19:32:41.987365",
     "status": "completed"
    },
    "tags": []
   },
   "outputs": [
    {
     "data": {
      "text/plain": [
       "description_tokens\n",
       "[]                                                                         5752\n",
       "['excel']                                                                   973\n",
       "['sql']                                                                     938\n",
       "['sql', 'excel']                                                            572\n",
       "['jira', 'sql', 'tableau', 'microstrategy']                                 272\n",
       "['python', 'power_bi']                                                      220\n",
       "['tableau']                                                                 206\n",
       "['power_bi', 'excel']                                                       191\n",
       "['go']                                                                      170\n",
       "['power_bi']                                                                161\n",
       "['python']                                                                  144\n",
       "['r']                                                                       141\n",
       "['spreadsheet']                                                             139\n",
       "['r', 'sas', 'sql', 'power_bi', 'python', 'excel', 'spss', 'snowflake']     137\n",
       "['r', 'spark', 'sql', 'power_bi', 'python', 'scala', 'tableau']             135\n",
       "['power_bi', 'tableau', 'excel']                                            127\n",
       "['python', 'sql']                                                           103\n",
       "['tableau', 'sql']                                                          102\n",
       "['sas', 'sql']                                                              101\n",
       "['swift', 'sql', 'powerpoint', 'excel', 'tableau', 'microstrategy']         100\n",
       "Name: count, dtype: int64"
      ]
     },
     "execution_count": 5,
     "metadata": {},
     "output_type": "execute_result"
    }
   ],
   "source": [
    "# Extracting and counting the skills from the description_tokens column\n",
    "skills_series = df['description_tokens'].dropna().explode()\n",
    "skills_count = skills_series.value_counts()\n",
    "\n",
    "# Displaying the top 20 most frequently required skills\n",
    "top_skills = skills_count.head(20)\n",
    "top_skills\n"
   ]
  },
  {
   "cell_type": "markdown",
   "id": "1db8ae29",
   "metadata": {
    "papermill": {
     "duration": 0.008077,
     "end_time": "2023-09-04T19:32:42.039213",
     "exception": false,
     "start_time": "2023-09-04T19:32:42.031136",
     "status": "completed"
    },
    "tags": []
   },
   "source": [
    "**Here are the top 20 most frequently mentioned skill sets in the job descriptions for Data Analyst positions:**\n",
    "\n",
    "* Excel: 973 mentions\n",
    "* SQL: 938 mentions\n",
    "* SQL & Excel combined: 572 mentions\n",
    "* Jira, SQL, Tableau, MicroStrategy: 272 mentions\n",
    "* Python & Power BI: 220 mentions\n",
    "* Tableau: 206 mentions\n",
    "* Power BI & Excel: 191 mentions\n",
    "* Go: 170 mentions\n",
    "* Power BI: 161 mentions\n",
    "* Python: 144 mentions\n",
    "* R: 141 mentions\n",
    "* Spreadsheet: 139 mentions\n",
    "* R, SAS, SQL, Power BI, Python, Excel, SPSS, Snowflake: 137 mentions\n",
    "* R, Spark, SQL, Power BI, Python, Scala, Tableau: 135 mentions\n",
    "* Power BI, Tableau, Excel: 127 mentions\n",
    "* Python & SQL: 103 mentions\n",
    "* Tableau & SQL: 102 mentions\n",
    "* SAS & SQL: 101 mentions\n",
    "* Swift, SQL, PowerPoint, Excel, Tableau, MicroStrategy: 100 mentions\n",
    "* Empty/Missing skills: 5752 mentions (this is likely a placeholder or missing data)\n",
    "\n",
    "> It's clear that Excel, SQL, Tableau, and Power BI are among the most sought-after skills for Data Analyst positions. Additionally, some postings require a combination of multiple skills."
   ]
  },
  {
   "cell_type": "code",
   "execution_count": 6,
   "id": "57158418",
   "metadata": {
    "execution": {
     "iopub.execute_input": "2023-09-04T19:32:42.058004Z",
     "iopub.status.busy": "2023-09-04T19:32:42.057608Z",
     "iopub.status.idle": "2023-09-04T19:32:42.068766Z",
     "shell.execute_reply": "2023-09-04T19:32:42.067752Z"
    },
    "papermill": {
     "duration": 0.023168,
     "end_time": "2023-09-04T19:32:42.070926",
     "exception": false,
     "start_time": "2023-09-04T19:32:42.047758",
     "status": "completed"
    },
    "tags": []
   },
   "outputs": [
    {
     "data": {
      "text/plain": [
       "location\n",
       "Anywhere                   7094\n",
       " Anywhere                  5059\n",
       "  United States            3683\n",
       "United States              3660\n",
       "Kansas City, MO             528\n",
       "  Oklahoma City, OK         445\n",
       "  Kansas City, MO           437\n",
       "Oklahoma City, OK           380\n",
       "Jefferson City, MO          350\n",
       "  Jefferson City, MO        298\n",
       "  Bentonville, AR           239\n",
       "Columbia, MO                211\n",
       "Tulsa, OK                   200\n",
       "  Tulsa, OK                 172\n",
       "Wichita, KS                 159\n",
       "Bentonville, AR             154\n",
       "  Wichita, KS               153\n",
       "Overland Park, KS           149\n",
       "  Topeka, KS                127\n",
       "  Springfield, MO           121\n",
       "Name: count, dtype: int64"
      ]
     },
     "execution_count": 6,
     "metadata": {},
     "output_type": "execute_result"
    }
   ],
   "source": [
    "# Counting the occurrences of each location\n",
    "location_counts = df['location'].value_counts()\n",
    "\n",
    "# Displaying the top 20 locations with the most job postings\n",
    "top_locations = location_counts.head(20)\n",
    "top_locations\n"
   ]
  },
  {
   "cell_type": "code",
   "execution_count": 7,
   "id": "32ca7d9d",
   "metadata": {
    "execution": {
     "iopub.execute_input": "2023-09-04T19:32:42.089540Z",
     "iopub.status.busy": "2023-09-04T19:32:42.089177Z",
     "iopub.status.idle": "2023-09-04T19:32:42.101832Z",
     "shell.execute_reply": "2023-09-04T19:32:42.100786Z"
    },
    "papermill": {
     "duration": 0.024602,
     "end_time": "2023-09-04T19:32:42.103970",
     "exception": false,
     "start_time": "2023-09-04T19:32:42.079368",
     "status": "completed"
    },
    "tags": []
   },
   "outputs": [
    {
     "data": {
      "text/plain": [
       "company_name\n",
       "Upwork                                     4355\n",
       "Walmart                                     954\n",
       "EDWARD JONES                                730\n",
       "Corporate                                   610\n",
       "Talentify.io                                536\n",
       "Cox Communications                          517\n",
       "Dice                                        272\n",
       "Insight Global                              248\n",
       "Staffigo Technical Services, LLC            167\n",
       "Centene Corporation                         159\n",
       "Jobot                                       107\n",
       "Elevance Health                             104\n",
       "Harnham                                      96\n",
       "UnitedHealth Group                           89\n",
       "State of Missouri                            88\n",
       "General Dynamics Information Technology      75\n",
       "Apex Systems                                 74\n",
       "MTC Holding Corporation                      73\n",
       "Sam's Club                                   72\n",
       "Saint Louis County Clerks Office             70\n",
       "Name: count, dtype: int64"
      ]
     },
     "execution_count": 7,
     "metadata": {},
     "output_type": "execute_result"
    }
   ],
   "source": [
    "# Counting the occurrences of each company\n",
    "company_counts = df['company_name'].value_counts()\n",
    "\n",
    "# Displaying the top 20 companies with the most job postings\n",
    "top_companies = company_counts.head(20)\n",
    "top_companies\n"
   ]
  },
  {
   "cell_type": "markdown",
   "id": "6791dc6c",
   "metadata": {
    "papermill": {
     "duration": 0.008242,
     "end_time": "2023-09-04T19:32:42.120934",
     "exception": false,
     "start_time": "2023-09-04T19:32:42.112692",
     "status": "completed"
    },
    "tags": []
   },
   "source": [
    "**From this analysis, it's evident that Upwork has a significant number of job postings, suggesting many freelance or contractual opportunities. Large corporations like Walmart and Cox Communications also have a notable presence in the dataset.**"
   ]
  },
  {
   "cell_type": "code",
   "execution_count": 8,
   "id": "bb2efc7f",
   "metadata": {
    "execution": {
     "iopub.execute_input": "2023-09-04T19:32:42.139812Z",
     "iopub.status.busy": "2023-09-04T19:32:42.139413Z",
     "iopub.status.idle": "2023-09-04T19:32:42.159234Z",
     "shell.execute_reply": "2023-09-04T19:32:42.158291Z"
    },
    "papermill": {
     "duration": 0.031775,
     "end_time": "2023-09-04T19:32:42.161152",
     "exception": false,
     "start_time": "2023-09-04T19:32:42.129377",
     "status": "completed"
    },
    "tags": []
   },
   "outputs": [
    {
     "data": {
      "text/plain": [
       "extensions\n",
       "['18 hours ago', 'Full-time']                                                                                435\n",
       "['17 hours ago', 'Full-time']                                                                                410\n",
       "['20 hours ago', 'Full-time']                                                                                366\n",
       "['11 hours ago', 'Full-time']                                                                                354\n",
       "['19 hours ago', 'Full-time']                                                                                334\n",
       "['22 hours ago', 'Full-time']                                                                                330\n",
       "['18 hours ago', '77K–116K a year', 'Full-time', 'Health insurance', 'Dental insurance', 'Paid time off']    329\n",
       "['23 hours ago', 'Full-time']                                                                                319\n",
       "['12 hours ago', 'Full-time']                                                                                305\n",
       "['21 hours ago', 'Full-time']                                                                                295\n",
       "['17 hours ago', 'Full-time', 'Health insurance', 'Paid time off']                                           288\n",
       "['15 hours ago', 'Full-time']                                                                                270\n",
       "['16 hours ago', 'Full-time']                                                                                245\n",
       "['9 hours ago', 'Full-time']                                                                                 236\n",
       "['10 hours ago', 'Full-time']                                                                                228\n",
       "['13 hours ago', 'Full-time']                                                                                221\n",
       "['15 hours ago', 'Work from home', 'Full-time']                                                              217\n",
       "['20 hours ago', 'Full-time', 'Health insurance', 'Dental insurance', 'Paid time off']                       192\n",
       "['14 hours ago', 'Full-time']                                                                                184\n",
       "['21 hours ago', 'Full-time', 'Health insurance', 'Dental insurance', 'Paid time off']                       182\n",
       "Name: count, dtype: int64"
      ]
     },
     "execution_count": 8,
     "metadata": {},
     "output_type": "execute_result"
    }
   ],
   "source": [
    "# Extracting and counting the job types from the extensions column\n",
    "job_types_series = df['extensions'].dropna().explode()\n",
    "job_types_count = job_types_series.value_counts()\n",
    "\n",
    "# Displaying the top job types\n",
    "top_job_types = job_types_count.head(20)\n",
    "top_job_types\n"
   ]
  },
  {
   "cell_type": "code",
   "execution_count": 9,
   "id": "352d5205",
   "metadata": {
    "execution": {
     "iopub.execute_input": "2023-09-04T19:32:42.180361Z",
     "iopub.status.busy": "2023-09-04T19:32:42.180005Z",
     "iopub.status.idle": "2023-09-04T19:32:42.282668Z",
     "shell.execute_reply": "2023-09-04T19:32:42.281684Z"
    },
    "papermill": {
     "duration": 0.115015,
     "end_time": "2023-09-04T19:32:42.284916",
     "exception": false,
     "start_time": "2023-09-04T19:32:42.169901",
     "status": "completed"
    },
    "tags": []
   },
   "outputs": [
    {
     "data": {
      "text/plain": [
       "{'Full-time': 20801,\n",
       " 'Part-time': 289,\n",
       " 'Contractor': 6554,\n",
       " 'Temporary': 0,\n",
       " 'Internship': 154,\n",
       " 'Work from home': 12153,\n",
       " 'Health insurance': 9790,\n",
       " 'Dental insurance': 6274,\n",
       " 'Paid time off': 6488,\n",
       " 'Remote': 0}"
      ]
     },
     "execution_count": 9,
     "metadata": {},
     "output_type": "execute_result"
    }
   ],
   "source": [
    "# List of potential job types and benefits to extract\n",
    "job_attributes = [\"Full-time\", \"Part-time\", \"Contractor\", \"Temporary\", \n",
    "                  \"Internship\", \"Work from home\", \"Health insurance\", \n",
    "                  \"Dental insurance\", \"Paid time off\", \"Remote\"]\n",
    "\n",
    "# Extracting and counting the occurrences of each job attribute\n",
    "job_attributes_counts = {attr: df['extensions'].apply(lambda x: attr in str(x)).sum() for attr in job_attributes}\n",
    "\n",
    "job_attributes_counts\n"
   ]
  },
  {
   "cell_type": "markdown",
   "id": "65479241",
   "metadata": {
    "papermill": {
     "duration": 0.008838,
     "end_time": "2023-09-04T19:32:42.302817",
     "exception": false,
     "start_time": "2023-09-04T19:32:42.293979",
     "status": "completed"
    },
    "tags": []
   },
   "source": [
    "**From the analysis, it's evident that most Data Analyst job postings are for full-time positions, with a significant number also offering the option to work from home. Benefits like health insurance, dental insurance, and paid time off are also commonly listed.**"
   ]
  },
  {
   "cell_type": "code",
   "execution_count": 10,
   "id": "d06220d5",
   "metadata": {
    "execution": {
     "iopub.execute_input": "2023-09-04T19:32:42.322309Z",
     "iopub.status.busy": "2023-09-04T19:32:42.321931Z",
     "iopub.status.idle": "2023-09-04T19:32:42.332375Z",
     "shell.execute_reply": "2023-09-04T19:32:42.331403Z"
    },
    "papermill": {
     "duration": 0.022866,
     "end_time": "2023-09-04T19:32:42.334491",
     "exception": false,
     "start_time": "2023-09-04T19:32:42.311625",
     "status": "completed"
    },
    "tags": []
   },
   "outputs": [
    {
     "data": {
      "text/plain": [
       "via\n",
       "via LinkedIn             8894\n",
       "via Upwork               4335\n",
       "via BeBee                2411\n",
       "via Trabajo.org          2095\n",
       "via ZipRecruiter         1792\n",
       "via Indeed               1321\n",
       "via Snagajob              566\n",
       "via Adzuna                532\n",
       "via Jobs Trabajo.org      416\n",
       "via Monster               335\n",
       "via My ArkLaMiss Jobs     283\n",
       "via Built In              252\n",
       "via Jora                  230\n",
       "via Nexxt                 201\n",
       "via Recruit.net           195\n",
       "via SimplyHired           183\n",
       "via Big Country Jobs      179\n",
       "via WANE Jobs             136\n",
       "via WJHL Jobs             133\n",
       "via Startup Jobs          128\n",
       "Name: count, dtype: int64"
      ]
     },
     "execution_count": 10,
     "metadata": {},
     "output_type": "execute_result"
    }
   ],
   "source": [
    "# Counting the occurrences of each source/platform\n",
    "source_counts = df['via'].value_counts()\n",
    "\n",
    "# Displaying the top sources/platforms\n",
    "top_sources = source_counts.head(20)\n",
    "top_sources\n"
   ]
  },
  {
   "cell_type": "markdown",
   "id": "82fc9fcb",
   "metadata": {
    "papermill": {
     "duration": 0.00865,
     "end_time": "2023-09-04T19:32:42.352299",
     "exception": false,
     "start_time": "2023-09-04T19:32:42.343649",
     "status": "completed"
    },
    "tags": []
   },
   "source": [
    "**From this analysis, it's clear that LinkedIn is the leading platform for Data Analyst job postings in the dataset, followed by Upwork and BeBee.**"
   ]
  },
  {
   "cell_type": "code",
   "execution_count": 11,
   "id": "c271a6fd",
   "metadata": {
    "execution": {
     "iopub.execute_input": "2023-09-04T19:32:42.372016Z",
     "iopub.status.busy": "2023-09-04T19:32:42.371615Z",
     "iopub.status.idle": "2023-09-04T19:32:42.394024Z",
     "shell.execute_reply": "2023-09-04T19:32:42.392990Z"
    },
    "papermill": {
     "duration": 0.034774,
     "end_time": "2023-09-04T19:32:42.396201",
     "exception": false,
     "start_time": "2023-09-04T19:32:42.361427",
     "status": "completed"
    },
    "tags": []
   },
   "outputs": [
    {
     "data": {
      "text/plain": [
       "count       0\n",
       "unique      0\n",
       "top       NaN\n",
       "freq      NaN\n",
       "Name: hours_since_posted, dtype: object"
      ]
     },
     "execution_count": 11,
     "metadata": {},
     "output_type": "execute_result"
    }
   ],
   "source": [
    "import re\n",
    "\n",
    "# Extracting the number of hours since the job was posted\n",
    "def extract_hours(s):\n",
    "    if isinstance(s, list):\n",
    "        for item in s:\n",
    "            match = re.search(r'(\\d+) hours ago', item)\n",
    "            if match:\n",
    "                return int(match.group(1))\n",
    "    return None\n",
    "\n",
    "df['hours_since_posted'] = df['extensions'].apply(extract_hours)\n",
    "\n",
    "# Basic statistics on the hours_since_posted column\n",
    "hours_since_posted_stats = df['hours_since_posted'].describe()\n",
    "hours_since_posted_stats\n"
   ]
  },
  {
   "cell_type": "code",
   "execution_count": 12,
   "id": "2d2d8575",
   "metadata": {
    "execution": {
     "iopub.execute_input": "2023-09-04T19:32:42.416568Z",
     "iopub.status.busy": "2023-09-04T19:32:42.416196Z",
     "iopub.status.idle": "2023-09-04T19:32:42.445942Z",
     "shell.execute_reply": "2023-09-04T19:32:42.445181Z"
    },
    "papermill": {
     "duration": 0.042353,
     "end_time": "2023-09-04T19:32:42.447931",
     "exception": false,
     "start_time": "2023-09-04T19:32:42.405578",
     "status": "completed"
    },
    "tags": []
   },
   "outputs": [
    {
     "data": {
      "text/plain": [
       "count    27973.000000\n",
       "mean      3433.947271\n",
       "std       2409.518179\n",
       "min          1.000000\n",
       "25%       1480.000000\n",
       "50%       3180.000000\n",
       "75%       4945.000000\n",
       "max      29480.000000\n",
       "Name: description_length, dtype: float64"
      ]
     },
     "execution_count": 12,
     "metadata": {},
     "output_type": "execute_result"
    }
   ],
   "source": [
    "# Calculating the length of each job description\n",
    "df['description_length'] = df['description'].apply(lambda x: len(str(x)))\n",
    "\n",
    "# Basic statistics on the description_length column\n",
    "description_length_stats = df['description_length'].describe()\n",
    "description_length_stats\n"
   ]
  },
  {
   "cell_type": "code",
   "execution_count": 13,
   "id": "f278b0f4",
   "metadata": {
    "execution": {
     "iopub.execute_input": "2023-09-04T19:32:42.468638Z",
     "iopub.status.busy": "2023-09-04T19:32:42.467599Z",
     "iopub.status.idle": "2023-09-04T19:32:42.849627Z",
     "shell.execute_reply": "2023-09-04T19:32:42.848503Z"
    },
    "papermill": {
     "duration": 0.394698,
     "end_time": "2023-09-04T19:32:42.851858",
     "exception": false,
     "start_time": "2023-09-04T19:32:42.457160",
     "status": "completed"
    },
    "tags": []
   },
   "outputs": [
    {
     "data": {
      "image/png": "[encoded data removed]",
      "text/plain": [
       "<Figure size 1200x600 with 1 Axes>"
      ]
     },
     "metadata": {},
     "output_type": "display_data"
    }
   ],
   "source": [
    "import matplotlib.pyplot as plt\n",
    "\n",
    "# Plotting a histogram for job description lengths\n",
    "plt.figure(figsize=(12, 6))\n",
    "plt.hist(df['description_length'], bins=50, color='skyblue', edgecolor='black')\n",
    "plt.title('Distribution of Job Description Lengths')\n",
    "plt.xlabel('Description Length (characters)')\n",
    "plt.ylabel('Number of Job Postings')\n",
    "plt.grid(axis='y', linestyle='--', alpha=0.7)\n",
    "plt.show()\n"
   ]
  },
  {
   "cell_type": "markdown",
   "id": "ce3837c0",
   "metadata": {
    "papermill": {
     "duration": 0.009581,
     "end_time": "2023-09-04T19:32:42.871891",
     "exception": false,
     "start_time": "2023-09-04T19:32:42.862310",
     "status": "completed"
    },
    "tags": []
   },
   "source": [
    "**The histogram provides a visual representation of the distribution of job description lengths for Data Analyst positions.**\n",
    "\n",
    "* Most job descriptions are clustered in the range of 1,000 to 5,000 characters.\n",
    "* There's a noticeable peak around 3,000 characters, which aligns with our median value from the statistics.\n",
    "* Some job descriptions are extremely detailed, going up to nearly 30,000 characters, though these are less common.\n",
    "\n",
    "> This visualization suggests that while many companies opt for moderately detailed descriptions, there's a wide variation in how companies approach job listings, with some providing very concise descriptions and others offering very detailed ones."
   ]
  },
  {
   "cell_type": "code",
   "execution_count": 14,
   "id": "89253e6f",
   "metadata": {
    "execution": {
     "iopub.execute_input": "2023-09-04T19:32:42.893626Z",
     "iopub.status.busy": "2023-09-04T19:32:42.893205Z",
     "iopub.status.idle": "2023-09-04T19:32:42.906082Z",
     "shell.execute_reply": "2023-09-04T19:32:42.905014Z"
    },
    "papermill": {
     "duration": 0.026711,
     "end_time": "2023-09-04T19:32:42.908508",
     "exception": false,
     "start_time": "2023-09-04T19:32:42.881797",
     "status": "completed"
    },
    "tags": []
   },
   "outputs": [
    {
     "data": {
      "text/plain": [
       "thumbnail\n",
       "True     53.94845\n",
       "False    46.05155\n",
       "Name: count, dtype: float64"
      ]
     },
     "execution_count": 14,
     "metadata": {},
     "output_type": "execute_result"
    }
   ],
   "source": [
    "# Counting the occurrences of job postings with and without thumbnails\n",
    "thumbnail_presence = df['thumbnail'].notnull().value_counts()\n",
    "\n",
    "thumbnail_presence_percentage = thumbnail_presence / thumbnail_presence.sum() * 100\n",
    "thumbnail_presence_percentage\n"
   ]
  },
  {
   "cell_type": "markdown",
   "id": "49648a24",
   "metadata": {
    "papermill": {
     "duration": 0.009938,
     "end_time": "2023-09-04T19:32:42.928907",
     "exception": false,
     "start_time": "2023-09-04T19:32:42.918969",
     "status": "completed"
    },
    "tags": []
   },
   "source": [
    "**Here's the distribution of job postings based on the presence of thumbnails:**\n",
    "\n",
    "* With Thumbnails: Approximately 53.95% of job postings\n",
    "* Without Thumbnails: Approximately 46.05% of job postings\n",
    "\n",
    "> This suggests that a slight majority of job postings for Data Analyst positions include thumbnails, making the postings potentially more visually appealing to potential applicants."
   ]
  },
  {
   "cell_type": "code",
   "execution_count": 15,
   "id": "fd2cdc18",
   "metadata": {
    "execution": {
     "iopub.execute_input": "2023-09-04T19:32:42.951580Z",
     "iopub.status.busy": "2023-09-04T19:32:42.950808Z",
     "iopub.status.idle": "2023-09-04T19:32:42.975461Z",
     "shell.execute_reply": "2023-09-04T19:32:42.974375Z"
    },
    "papermill": {
     "duration": 0.038556,
     "end_time": "2023-09-04T19:32:42.977805",
     "exception": false,
     "start_time": "2023-09-04T19:32:42.939249",
     "status": "completed"
    },
    "tags": []
   },
   "outputs": [
    {
     "data": {
      "text/plain": [
       "(62289.73531623331, 28597.559628201598)"
      ]
     },
     "execution_count": 15,
     "metadata": {},
     "output_type": "execute_result"
    }
   ],
   "source": [
    "# Calculating the average salaries for job postings with and without thumbnails\n",
    "avg_salary_with_thumbnail = df[df['thumbnail'].notnull()]['salary_avg'].mean()\n",
    "avg_salary_without_thumbnail = df[df['thumbnail'].isnull()]['salary_avg'].mean()\n",
    "\n",
    "avg_salary_with_thumbnail, avg_salary_without_thumbnail\n"
   ]
  },
  {
   "cell_type": "markdown",
   "id": "147182bb",
   "metadata": {
    "papermill": {
     "duration": 0.009928,
     "end_time": "2023-09-04T19:32:42.998019",
     "exception": false,
     "start_time": "2023-09-04T19:32:42.988091",
     "status": "completed"
    },
    "tags": []
   },
   "source": [
    "**Here are the average salaries based on the presence of thumbnails:**\n",
    "\n",
    "With Thumbnails: Approximately $62,290\n",
    "\n",
    "Without Thumbnails: Approximately $28,598\n",
    "\n",
    "> From this analysis, it's evident that job postings with thumbnails tend to offer higher average salaries compared to those without thumbnails. This could be due to various reasons:\n",
    "\n",
    "* Branding Efforts: Companies that invest more in branding (evidenced by the use of thumbnails) might also offer more competitive salaries.\n",
    "* Larger Companies: Larger or more established companies might be more likely to use thumbnails and also have the budget to offer higher salaries.\n",
    "* Type of Roles: Higher-paying roles might be more specialized, and companies could be using thumbnails to attract attention to these critical positions."
   ]
  },
  {
   "cell_type": "code",
   "execution_count": 16,
   "id": "d7a348d7",
   "metadata": {
    "execution": {
     "iopub.execute_input": "2023-09-04T19:32:43.020353Z",
     "iopub.status.busy": "2023-09-04T19:32:43.019626Z",
     "iopub.status.idle": "2023-09-04T19:32:43.045001Z",
     "shell.execute_reply": "2023-09-04T19:32:43.043989Z"
    },
    "papermill": {
     "duration": 0.038985,
     "end_time": "2023-09-04T19:32:43.047391",
     "exception": false,
     "start_time": "2023-09-04T19:32:43.008406",
     "status": "completed"
    },
    "tags": []
   },
   "outputs": [
    {
     "data": {
      "text/html": [
       "<div>\n",
       "<style scoped>\n",
       "    .dataframe tbody tr th:only-of-type {\n",
       "        vertical-align: middle;\n",
       "    }\n",
       "\n",
       "    .dataframe tbody tr th {\n",
       "        vertical-align: top;\n",
       "    }\n",
       "\n",
       "    .dataframe thead th {\n",
       "        text-align: right;\n",
       "    }\n",
       "</style>\n",
       "<table border=\"1\" class=\"dataframe\">\n",
       "  <thead>\n",
       "    <tr style=\"text-align: right;\">\n",
       "      <th></th>\n",
       "      <th>Overall Top Companies</th>\n",
       "      <th>Postings (Overall)</th>\n",
       "      <th>Top Companies with Thumbnails</th>\n",
       "      <th>Postings (with Thumbnails)</th>\n",
       "    </tr>\n",
       "  </thead>\n",
       "  <tbody>\n",
       "    <tr>\n",
       "      <th>0</th>\n",
       "      <td>Upwork</td>\n",
       "      <td>4355</td>\n",
       "      <td>Talentify.io</td>\n",
       "      <td>517</td>\n",
       "    </tr>\n",
       "    <tr>\n",
       "      <th>1</th>\n",
       "      <td>Walmart</td>\n",
       "      <td>954</td>\n",
       "      <td>Dice</td>\n",
       "      <td>267</td>\n",
       "    </tr>\n",
       "    <tr>\n",
       "      <th>2</th>\n",
       "      <td>EDWARD JONES</td>\n",
       "      <td>730</td>\n",
       "      <td>Insight Global</td>\n",
       "      <td>218</td>\n",
       "    </tr>\n",
       "    <tr>\n",
       "      <th>3</th>\n",
       "      <td>Corporate</td>\n",
       "      <td>610</td>\n",
       "      <td>EDWARD JONES</td>\n",
       "      <td>217</td>\n",
       "    </tr>\n",
       "    <tr>\n",
       "      <th>4</th>\n",
       "      <td>Talentify.io</td>\n",
       "      <td>536</td>\n",
       "      <td>Walmart</td>\n",
       "      <td>204</td>\n",
       "    </tr>\n",
       "    <tr>\n",
       "      <th>5</th>\n",
       "      <td>Cox Communications</td>\n",
       "      <td>517</td>\n",
       "      <td>Centene Corporation</td>\n",
       "      <td>123</td>\n",
       "    </tr>\n",
       "    <tr>\n",
       "      <th>6</th>\n",
       "      <td>Dice</td>\n",
       "      <td>272</td>\n",
       "      <td>Elevance Health</td>\n",
       "      <td>104</td>\n",
       "    </tr>\n",
       "    <tr>\n",
       "      <th>7</th>\n",
       "      <td>Insight Global</td>\n",
       "      <td>248</td>\n",
       "      <td>Corporate</td>\n",
       "      <td>99</td>\n",
       "    </tr>\n",
       "    <tr>\n",
       "      <th>8</th>\n",
       "      <td>Staffigo Technical Services, LLC</td>\n",
       "      <td>167</td>\n",
       "      <td>Sam's Club</td>\n",
       "      <td>70</td>\n",
       "    </tr>\n",
       "    <tr>\n",
       "      <th>9</th>\n",
       "      <td>Centene Corporation</td>\n",
       "      <td>159</td>\n",
       "      <td>General Dynamics Information Technology</td>\n",
       "      <td>70</td>\n",
       "    </tr>\n",
       "  </tbody>\n",
       "</table>\n",
       "</div>"
      ],
      "text/plain": [
       "              Overall Top Companies  Postings (Overall)  \\\n",
       "0                            Upwork                4355   \n",
       "1                           Walmart                 954   \n",
       "2                      EDWARD JONES                 730   \n",
       "3                         Corporate                 610   \n",
       "4                      Talentify.io                 536   \n",
       "5                Cox Communications                 517   \n",
       "6                              Dice                 272   \n",
       "7                    Insight Global                 248   \n",
       "8  Staffigo Technical Services, LLC                 167   \n",
       "9               Centene Corporation                 159   \n",
       "\n",
       "             Top Companies with Thumbnails  Postings (with Thumbnails)  \n",
       "0                             Talentify.io                         517  \n",
       "1                                     Dice                         267  \n",
       "2                           Insight Global                         218  \n",
       "3                             EDWARD JONES                         217  \n",
       "4                                  Walmart                         204  \n",
       "5                      Centene Corporation                         123  \n",
       "6                          Elevance Health                         104  \n",
       "7                                Corporate                          99  \n",
       "8                               Sam's Club                          70  \n",
       "9  General Dynamics Information Technology                          70  "
      ]
     },
     "execution_count": 16,
     "metadata": {},
     "output_type": "execute_result"
    }
   ],
   "source": [
    "# Top companies that use thumbnails\n",
    "top_companies_with_thumbnail = df[df['thumbnail'].notnull()]['company_name'].value_counts().head(10)\n",
    "\n",
    "# Ensuring equal lengths for comparison\n",
    "num_of_companies = min(len(top_companies), len(top_companies_with_thumbnail))\n",
    "\n",
    "# Extracting the top companies based on the minimum length\n",
    "top_companies_subset = top_companies.head(num_of_companies)\n",
    "top_companies_with_thumbnail_subset = top_companies_with_thumbnail.head(num_of_companies)\n",
    "\n",
    "# Creating a comparison dataframe\n",
    "comparison_df = pd.DataFrame({\n",
    "    'Overall Top Companies': top_companies_subset.index,\n",
    "    'Postings (Overall)': top_companies_subset.values,\n",
    "    'Top Companies with Thumbnails': top_companies_with_thumbnail_subset.index,\n",
    "    'Postings (with Thumbnails)': top_companies_with_thumbnail_subset.values\n",
    "})\n",
    "\n",
    "comparison_df\n"
   ]
  },
  {
   "cell_type": "markdown",
   "id": "06a396bd",
   "metadata": {
    "papermill": {
     "duration": 0.010225,
     "end_time": "2023-09-04T19:32:43.068818",
     "exception": false,
     "start_time": "2023-09-04T19:32:43.058593",
     "status": "completed"
    },
    "tags": []
   },
   "source": [
    "**Here's a comparison of the top companies based on overall job postings and those that use thumbnails:**\n",
    "\n",
    "* While Upwork tops the overall list with 4355 postings, it does not appear among the top companies that use thumbnails.\n",
    "* Companies like Talentify.io, Dice, and Insight Global have a higher tendency to use thumbnails in their job postings, as they rank higher in the thumbnail list compared to the overall list.\n",
    "* EDWARD JONES and Walmart consistently rank high in both lists, indicating they frequently post job listings and often use thumbnails.\n",
    "\n",
    "> This analysis suggests that while some companies prioritize visual appeal in their job postings, others may not consider it as significant."
   ]
  },
  {
   "cell_type": "code",
   "execution_count": null,
   "id": "8166e4e4",
   "metadata": {
    "papermill": {
     "duration": 0.010234,
     "end_time": "2023-09-04T19:32:43.089468",
     "exception": false,
     "start_time": "2023-09-04T19:32:43.079234",
     "status": "completed"
    },
    "tags": []
   },
   "outputs": [],
   "source": []
  }
 ],
 "kernelspec": {
  "display_name": "Python 3",
  "language": "python",
  "name": "python3"
 },
 "language_info": {
  "codemirror_mode": {
   "name": "ipython",
   "version": 3
  },
  "file_extension": ".py",
  "mimetype": "text/x-python",
  "name": "python",
  "nbconvert_exporter": "python",
  "pygments_lexer": "ipython3",
  "version": "3.6.4"
 },
 "metadata": {
  "kernelspec": {
   "display_name": "Python 3",
   "language": "python",
   "name": "python3"
  },
  "language_info": {
   "codemirror_mode": {
    "name": "ipython",
    "version": 3
   },
   "file_extension": ".py",
   "mimetype": "text/x-python",
   "name": "python",
   "nbconvert_exporter": "python",
   "pygments_lexer": "ipython3",
   "version": "3.10.12"
  },
  "papermill": {
   "default_parameters": {},
   "duration": 8.746162,
   "end_time": "2023-09-04T19:32:43.520684",
   "environment_variables": {},
   "exception": null,
   "input_path": "__notebook__.ipynb",
   "output_path": "__notebook__.ipynb",
   "parameters": {},
   "start_time": "2023-09-04T19:32:34.774522",
   "version": "2.4.0"
  }
 },
 "nbformat": 4,
 "nbformat_minor": 5
}
